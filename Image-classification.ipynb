{
 "cells": [
  {
   "cell_type": "code",
   "execution_count": 1,
   "id": "08b5ad8a",
   "metadata": {},
   "outputs": [],
   "source": [
    "import torch \n",
    "from torchvision.datasets import ImageFolder\n",
    "import torch.nn.functional as F\n",
    "import torchvision.transforms as transforms\n",
    "from torch.utils.data import DataLoader"
   ]
  },
  {
   "cell_type": "code",
   "execution_count": 2,
   "id": "dbaf3260",
   "metadata": {},
   "outputs": [],
   "source": [
    "import numpy as np\n",
    "import os\n",
    "import torch.nn as nn\n",
    "from torch.utils.data import random_split"
   ]
  },
  {
   "cell_type": "code",
   "execution_count": 3,
   "id": "5e7dafab",
   "metadata": {},
   "outputs": [],
   "source": [
    "trans_compose=transforms.Compose([transforms.Resize((32,32)),transforms.ToTensor()])\n",
    "datadir=\"classes\"\n",
    "dataset=ImageFolder(datadir,transform=trans_compose)\n"
   ]
  },
  {
   "cell_type": "code",
   "execution_count": 4,
   "id": "277cf897",
   "metadata": {},
   "outputs": [
    {
     "data": {
      "text/plain": [
       "6202"
      ]
     },
     "execution_count": 4,
     "metadata": {},
     "output_type": "execute_result"
    }
   ],
   "source": [
    "dataset\n",
    "len(dataset)"
   ]
  },
  {
   "cell_type": "code",
   "execution_count": 5,
   "id": "11d1fbb9",
   "metadata": {},
   "outputs": [],
   "source": [
    "image,lab=dataset[0]"
   ]
  },
  {
   "cell_type": "code",
   "execution_count": 6,
   "id": "836aa642",
   "metadata": {},
   "outputs": [
    {
     "data": {
      "text/plain": [
       "torch.Size([3, 32, 32])"
      ]
     },
     "execution_count": 6,
     "metadata": {},
     "output_type": "execute_result"
    }
   ],
   "source": [
    "image.shape"
   ]
  },
  {
   "cell_type": "code",
   "execution_count": 7,
   "id": "96ef4fc0",
   "metadata": {},
   "outputs": [],
   "source": [
    "# image.reshape(-1,1024).shape"
   ]
  },
  {
   "cell_type": "code",
   "execution_count": 8,
   "id": "5721d14b",
   "metadata": {},
   "outputs": [],
   "source": [
    "# demo_model=nn.Linear(32*32,2)"
   ]
  },
  {
   "cell_type": "code",
   "execution_count": 9,
   "id": "67b1c147",
   "metadata": {},
   "outputs": [],
   "source": [
    "# outputs=demo_model(image.reshape(-1,1024))"
   ]
  },
  {
   "cell_type": "code",
   "execution_count": 10,
   "id": "e321fe8f",
   "metadata": {},
   "outputs": [],
   "source": [
    "# list(demo_model.parameters())"
   ]
  },
  {
   "cell_type": "code",
   "execution_count": 11,
   "id": "477559ee",
   "metadata": {},
   "outputs": [],
   "source": [
    "# probs=F.softmax(outputs,dim=1)\n",
    "# max_probs,preds=torch.max(probs,dim=1)"
   ]
  },
  {
   "cell_type": "code",
   "execution_count": 12,
   "id": "f6ee2ceb",
   "metadata": {},
   "outputs": [],
   "source": [
    "# (torch.sum(preds==lab)/len(preds)).item()"
   ]
  },
  {
   "cell_type": "code",
   "execution_count": 13,
   "id": "bb4cf7c2",
   "metadata": {},
   "outputs": [
    {
     "data": {
      "text/plain": [
       "<matplotlib.image.AxesImage at 0x23ef1c39c40>"
      ]
     },
     "execution_count": 13,
     "metadata": {},
     "output_type": "execute_result"
    },
    {
     "data": {
      "image/png": "[encoded data removed]",
      "text/plain": [
       "<Figure size 432x288 with 1 Axes>"
      ]
     },
     "metadata": {
      "needs_background": "light"
     },
     "output_type": "display_data"
    }
   ],
   "source": [
    "import matplotlib.pyplot as plt\n",
    "\n",
    "plt.imshow(image.permute(1, 2, 0))"
   ]
  },
  {
   "cell_type": "code",
   "execution_count": null,
   "id": "78b92583",
   "metadata": {},
   "outputs": [],
   "source": []
  },
  {
   "cell_type": "code",
   "execution_count": null,
   "id": "594e10ef",
   "metadata": {},
   "outputs": [],
   "source": []
  },
  {
   "cell_type": "code",
   "execution_count": 14,
   "id": "41ccd0fb",
   "metadata": {},
   "outputs": [],
   "source": [
    "train_ds,val_ds=random_split(dataset,[4962,1240])"
   ]
  },
  {
   "cell_type": "code",
   "execution_count": 15,
   "id": "89d9267e",
   "metadata": {},
   "outputs": [],
   "source": [
    "train_dl=DataLoader(train_ds,batch_size=128,num_workers=4,shuffle=True,pin_memory=True)\n",
    "val_dl=DataLoader(val_ds,batch_size=128*2,num_workers=4,pin_memory=True)"
   ]
  },
  {
   "cell_type": "code",
   "execution_count": 16,
   "id": "4fc03db2",
   "metadata": {},
   "outputs": [
    {
     "data": {
      "text/plain": [
       "<torch.utils.data.dataloader.DataLoader at 0x23ef3cc2b80>"
      ]
     },
     "execution_count": 16,
     "metadata": {},
     "output_type": "execute_result"
    }
   ],
   "source": [
    "val_dl"
   ]
  },
  {
   "cell_type": "code",
   "execution_count": 17,
   "id": "cd401125",
   "metadata": {},
   "outputs": [
    {
     "data": {
      "text/plain": [
       "<torch.utils.data.dataloader.DataLoader at 0x23ef3cc2d60>"
      ]
     },
     "execution_count": 17,
     "metadata": {},
     "output_type": "execute_result"
    }
   ],
   "source": [
    "train_dl"
   ]
  },
  {
   "cell_type": "code",
   "execution_count": null,
   "id": "9abd1cc6",
   "metadata": {},
   "outputs": [],
   "source": []
  },
  {
   "cell_type": "code",
   "execution_count": null,
   "id": "6230fd60",
   "metadata": {},
   "outputs": [],
   "source": []
  },
  {
   "cell_type": "code",
   "execution_count": null,
   "id": "59b50730",
   "metadata": {},
   "outputs": [],
   "source": []
  },
  {
   "cell_type": "code",
   "execution_count": 18,
   "id": "3520e0b2",
   "metadata": {},
   "outputs": [],
   "source": [
    "def apply_kernel(image,kernel):\n",
    "    ri,ci=image.shape\n",
    "    rk,ck=kernel.shape\n",
    "    ro,co=ri-rk+1,ci-ck+1\n",
    "    output=torch.zeros([ro,co])\n",
    "    \n",
    "    for i in range(ro):\n",
    "        for j in range(co):\n",
    "            output[i,j]=torch.sum(image[i:i+rk,j:j+ck]*kernel)\n",
    "            \n",
    "    return output"
   ]
  },
  {
   "cell_type": "code",
   "execution_count": 19,
   "id": "c29d4d3f",
   "metadata": {},
   "outputs": [],
   "source": [
    "class ClassificationBase(nn.Module):\n",
    "    def training_step(self,batch):\n",
    "        img,labels=batch\n",
    "        out=self(img)\n",
    "        loss=F.cross_entropy(out,labels)\n",
    "        return loss\n",
    "    \n",
    "    def validation_step(self,batch):\n",
    "        img,labels=batch\n",
    "        out=self(img)\n",
    "        loss=F.cross_entropy(out,labels)\n",
    "        acc=accuracy(out,labels)\n",
    "        return {'val_loss':loss.detach(), 'val_acc':acc}\n",
    "    \n",
    "    def validation_epoch_end(self,outputs):\n",
    "        batch_losses=[x['val_loss'] for x in outputs]\n",
    "        epoch_loss=torch.stack(batch_losses).mean()\n",
    "        batch_acc=[x['val_acc'] for x in outputs]\n",
    "        epoch_acc=torch.stack(batch_acc).mean()\n",
    "        return {'val_loss':epoch_loss.item(),'val_acc':epoch_acc.item()}\n",
    "    \n",
    "    def epoch_end(self,epoch,result):\n",
    "        print(\"Epoch [{}], val_loss:{:.4f}, val_acc:{:.4f} \".format(epoch,result['val_loss'],result['val_acc']))\n",
    "     \n",
    "\n",
    "def accuracy(outputs, labels):\n",
    "    _,preds=torch.max(outputs,dim=1)\n",
    "    return torch.tensor(torch.sum(preds==labels).item())/len(preds)"
   ]
  },
  {
   "cell_type": "code",
   "execution_count": 20,
   "id": "cee8efaf",
   "metadata": {},
   "outputs": [],
   "source": [
    "class CNN(ClassificationBase):\n",
    "    def __init__(self):\n",
    "        super().__init__()\n",
    "        self.network=nn.Sequential(nn.Conv2d(3,32,kernel_size=3,padding=1),\n",
    "                                  nn.ReLU(),\n",
    "                                  nn.Conv2d(32,64,kernel_size=3,padding=1,stride=1),\n",
    "                                  nn.ReLU(),\n",
    "                                  nn.MaxPool2d(2,2),\n",
    "\n",
    "                                  nn.Conv2d(64,128,kernel_size=3,padding=1,stride=1),\n",
    "                                  nn.ReLU(),\n",
    "                                  nn.Conv2d(128,128,kernel_size=3,padding=1,stride=1),\n",
    "                                  nn.ReLU(),\n",
    "                                  nn.MaxPool2d(2,2),\n",
    "\n",
    "                                  nn.Conv2d(128,256,kernel_size=3,padding=1,stride=1),\n",
    "                                  nn.ReLU(),\n",
    "                                  nn.Conv2d(256,256,kernel_size=3,padding=1,stride=1),\n",
    "                                  nn.ReLU(),\n",
    "                                  nn.MaxPool2d(2,2),\n",
    "                                   \n",
    "                                   nn.Flatten(),\n",
    "                                   nn.Linear(256*4*4,1024),\n",
    "                                   nn.ReLU(),\n",
    "                                   nn.Linear(1024,512),\n",
    "                                   nn.ReLU(),\n",
    "                                   nn.Linear(512,2)\n",
    "                                  )\n",
    "    def forward(self,xb):\n",
    "        return self.network(xb)\n",
    "    "
   ]
  },
  {
   "cell_type": "code",
   "execution_count": 21,
   "id": "1fa0d098",
   "metadata": {},
   "outputs": [],
   "source": [
    "model=CNN()"
   ]
  },
  {
   "cell_type": "code",
   "execution_count": 22,
   "id": "19f6e836",
   "metadata": {},
   "outputs": [],
   "source": [
    "@torch.no_grad()\n",
    "def evaluate(model,val_loader):\n",
    "    model.eval()\n",
    "    outputs=[model.validation_step(batch) for batch in val_loader]\n",
    "    return model.validation_epoch_end(outputs)\n",
    "    \n",
    "def fit(epochs,lr,model,train_loader,val_loader,opt_func=torch.optim.SGD):\n",
    "    history=[]\n",
    "    optimizer=opt_func(model.parameters(),lr)\n",
    "    \n",
    "    for epoch in range(epochs):\n",
    "        #train phase\n",
    "        model.train()\n",
    "        train_losses=[]\n",
    "        for batch in train_loader:\n",
    "            loss=model.training_step(batch)\n",
    "            train_losses.append(loss)\n",
    "            loss.backward()\n",
    "            optimizer.step()\n",
    "            optimizer.zero_grad()\n",
    "        #validation phase\n",
    "        \n",
    "        result=evaluate(model,val_loader)\n",
    "        result['train_loss']=torch.stack(train_losses).mean().item()\n",
    "        model.epoch_end(epoch,result)\n",
    "        history.append(result)\n",
    "        \n",
    "    return history"
   ]
  },
  {
   "cell_type": "code",
   "execution_count": 23,
   "id": "c7a64f88",
   "metadata": {},
   "outputs": [
    {
     "data": {
      "text/plain": [
       "{'val_loss': 0.6925455331802368, 'val_acc': 0.5315682888031006}"
      ]
     },
     "execution_count": 23,
     "metadata": {},
     "output_type": "execute_result"
    }
   ],
   "source": [
    "evaluate(model,val_dl)"
   ]
  },
  {
   "cell_type": "code",
   "execution_count": 24,
   "id": "194b4371",
   "metadata": {},
   "outputs": [
    {
     "name": "stdout",
     "output_type": "stream",
     "text": [
      "Epoch [0], val_loss:0.6686, val_acc:0.5316 \n",
      "Epoch [1], val_loss:0.6472, val_acc:0.6341 \n",
      "Epoch [2], val_loss:0.6097, val_acc:0.7185 \n",
      "Epoch [3], val_loss:0.5813, val_acc:0.6838 \n",
      "Epoch [4], val_loss:0.5395, val_acc:0.7348 \n"
     ]
    }
   ],
   "source": [
    "history=fit(5,0.001,model,train_dl,val_dl,torch.optim.Adam)"
   ]
  },
  {
   "cell_type": "code",
   "execution_count": 25,
   "id": "5a8385f6",
   "metadata": {},
   "outputs": [],
   "source": [
    "FILE=\"model.pth\"\n",
    "torch.save(model.state_dict(),'model.pth')\n",
    "# torch.save(model,FILE)\n",
    "# import pickle\n",
    "# pickle.dump(model,open(\"torch_model.pkl\",\"wb\"))"
   ]
  },
  {
   "cell_type": "code",
   "execution_count": 26,
   "id": "fc904cdb",
   "metadata": {},
   "outputs": [],
   "source": [
    "from PIL import Image\n",
    "composer=transforms.Compose([transforms.Resize((32,32)),transforms.ToTensor()])\n",
    "testing=[]\n",
    "for i in os.listdir(\"imgs\"):\n",
    "    img=Image.open(os.path.join(\"imgs\",i))\n",
    "    testing.append(composer(img))\n"
   ]
  },
  {
   "cell_type": "code",
   "execution_count": 27,
   "id": "45d6c34d",
   "metadata": {},
   "outputs": [],
   "source": [
    "pred=[]\n",
    "for j in testing:\n",
    "    xb=j.unsqueeze(0)\n",
    "    yb=model(xb)\n",
    "    _, preds  = torch.max(yb, dim=1)\n",
    "    pred.append(preds[0].item())"
   ]
  },
  {
   "cell_type": "code",
   "execution_count": 28,
   "id": "f46a383d",
   "metadata": {},
   "outputs": [
    {
     "data": {
      "text/plain": [
       "[0, 1]"
      ]
     },
     "execution_count": 28,
     "metadata": {},
     "output_type": "execute_result"
    }
   ],
   "source": [
    "pred"
   ]
  },
  {
   "cell_type": "code",
   "execution_count": null,
   "id": "ae5db287",
   "metadata": {},
   "outputs": [],
   "source": []
  }
 ],
 "metadata": {
  "kernelspec": {
   "display_name": "Python 3 (ipykernel)",
   "language": "python",
   "name": "python3"
  },
  "language_info": {
   "codemirror_mode": {
    "name": "ipython",
    "version": 3
   },
   "file_extension": ".py",
   "mimetype": "text/x-python",
   "name": "python",
   "nbconvert_exporter": "python",
   "pygments_lexer": "ipython3",
   "version": "3.8.10"
  }
 },
 "nbformat": 4,
 "nbformat_minor": 5
}
