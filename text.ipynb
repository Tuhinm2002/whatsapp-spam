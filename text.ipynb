{
 "cells": [
  {
   "cell_type": "code",
   "execution_count": 1,
   "id": "cea07514",
   "metadata": {},
   "outputs": [],
   "source": [
    "import torch \n",
    "import nltk\n",
    "from nltk.corpus import stopwords\n",
    "import os\n",
    "import pandas as pd\n",
    "import numpy as np"
   ]
  },
  {
   "cell_type": "code",
   "execution_count": 2,
   "id": "b82b753d",
   "metadata": {},
   "outputs": [],
   "source": [
    "import string\n",
    "import re"
   ]
  },
  {
   "cell_type": "code",
   "execution_count": 3,
   "id": "829736d7",
   "metadata": {},
   "outputs": [],
   "source": [
    "from sklearn.naive_bayes import MultinomialNB\n",
    "from sklearn.model_selection import train_test_split\n",
    "from sklearn.metrics import accuracy_score"
   ]
  },
  {
   "cell_type": "code",
   "execution_count": 4,
   "id": "bafa1334",
   "metadata": {},
   "outputs": [],
   "source": [
    "csv_dataset=pd.read_csv(\"spam.csv\")"
   ]
  },
  {
   "cell_type": "code",
   "execution_count": 5,
   "id": "4a6f22ec",
   "metadata": {},
   "outputs": [
    {
     "data": {
      "text/plain": [
       "(5572, 5)"
      ]
     },
     "execution_count": 5,
     "metadata": {},
     "output_type": "execute_result"
    }
   ],
   "source": [
    "csv_dataset.shape"
   ]
  },
  {
   "cell_type": "code",
   "execution_count": 6,
   "id": "bf7a8467",
   "metadata": {},
   "outputs": [
    {
     "name": "stderr",
     "output_type": "stream",
     "text": [
      "[nltk_data] Downloading package stopwords to\n",
      "[nltk_data]     C:\\Users\\tuhin\\AppData\\Roaming\\nltk_data...\n",
      "[nltk_data]   Package stopwords is already up-to-date!\n"
     ]
    },
    {
     "data": {
      "text/plain": [
       "True"
      ]
     },
     "execution_count": 6,
     "metadata": {},
     "output_type": "execute_result"
    }
   ],
   "source": [
    "nltk.download('stopwords')"
   ]
  },
  {
   "cell_type": "code",
   "execution_count": 7,
   "id": "580d5c15",
   "metadata": {},
   "outputs": [],
   "source": [
    "from sklearn.feature_extraction.text import CountVectorizer"
   ]
  },
  {
   "cell_type": "code",
   "execution_count": 8,
   "id": "98c9f15e",
   "metadata": {},
   "outputs": [],
   "source": [
    "stop_words=stopwords.words(\"english\")"
   ]
  },
  {
   "cell_type": "code",
   "execution_count": 9,
   "id": "f1d97b30",
   "metadata": {},
   "outputs": [],
   "source": [
    "dataset=[]"
   ]
  },
  {
   "cell_type": "code",
   "execution_count": 10,
   "id": "b5006ca1",
   "metadata": {},
   "outputs": [],
   "source": [
    "for i,row in csv_dataset.iterrows():\n",
    "    dataset.append(row[\"v2\"])"
   ]
  },
  {
   "cell_type": "code",
   "execution_count": 11,
   "id": "f5c7ec5f",
   "metadata": {},
   "outputs": [
    {
     "data": {
      "text/plain": [
       "5572"
      ]
     },
     "execution_count": 11,
     "metadata": {},
     "output_type": "execute_result"
    }
   ],
   "source": [
    "len(dataset)"
   ]
  },
  {
   "cell_type": "code",
   "execution_count": null,
   "id": "95f166a0",
   "metadata": {},
   "outputs": [],
   "source": []
  },
  {
   "cell_type": "code",
   "execution_count": 12,
   "id": "9ec560fb",
   "metadata": {},
   "outputs": [],
   "source": [
    "clean_text1=[]\n",
    "def clean1(dataset):\n",
    "    for w in dataset:\n",
    "        if w not in stopwords.words(\"english\"):\n",
    "            clean_text1.append(w.split(\" \"))\n",
    "clean1(dataset)"
   ]
  },
  {
   "cell_type": "code",
   "execution_count": 13,
   "id": "9eb3b79f",
   "metadata": {},
   "outputs": [
    {
     "data": {
      "text/plain": [
       "5572"
      ]
     },
     "execution_count": 13,
     "metadata": {},
     "output_type": "execute_result"
    }
   ],
   "source": [
    "len(clean_text1)"
   ]
  },
  {
   "cell_type": "code",
   "execution_count": 14,
   "id": "f1e2319a",
   "metadata": {},
   "outputs": [],
   "source": [
    "clean_text2=[]\n",
    "def lower_clean(dataset):\n",
    "    for w in dataset:\n",
    "        new=[]\n",
    "        for word in w:\n",
    "            new.append(word.lower())\n",
    "        clean_text2.append(new)\n",
    "lower_clean(clean_text1)"
   ]
  },
  {
   "cell_type": "code",
   "execution_count": 15,
   "id": "9ac16bae",
   "metadata": {},
   "outputs": [
    {
     "data": {
      "text/plain": [
       "5572"
      ]
     },
     "execution_count": 15,
     "metadata": {},
     "output_type": "execute_result"
    }
   ],
   "source": [
    "len(clean_text2)"
   ]
  },
  {
   "cell_type": "code",
   "execution_count": 16,
   "id": "5f9abaf3",
   "metadata": {},
   "outputs": [
    {
     "data": {
      "text/plain": [
       "['go',\n",
       " 'until',\n",
       " 'jurong',\n",
       " 'point,',\n",
       " 'crazy..',\n",
       " 'available',\n",
       " 'only',\n",
       " 'in',\n",
       " 'bugis',\n",
       " 'n',\n",
       " 'great',\n",
       " 'world',\n",
       " 'la',\n",
       " 'e',\n",
       " 'buffet...',\n",
       " 'cine',\n",
       " 'there',\n",
       " 'got',\n",
       " 'amore',\n",
       " 'wat...']"
      ]
     },
     "execution_count": 16,
     "metadata": {},
     "output_type": "execute_result"
    }
   ],
   "source": [
    "clean_text2[0]"
   ]
  },
  {
   "cell_type": "code",
   "execution_count": 17,
   "id": "34354c49",
   "metadata": {},
   "outputs": [],
   "source": [
    "res=[]\n",
    "def reg_exp(dataset):\n",
    "    for w in dataset:\n",
    "        new=[]\n",
    "        for word in w:\n",
    "                re_word=re.sub(\"[@]\",\"\",word)\n",
    "                re_word=re.sub(\"[!]\",\"\",re_word)\n",
    "                re_word=re.sub(\"[_]\",\"\",re_word)\n",
    "                re_word=re.sub(\"[/]\",\"\",re_word)\n",
    "                re_word=re.sub(\"[()]\",\"\",re_word)\n",
    "                re_word=re.sub(\"[-]\",\"\",re_word)\n",
    "                re_word=re.sub(\"[:]\",\"\",re_word)\n",
    "                re_word=re.sub(\"[subject]\",\"\",re_word)\n",
    "                re_word=re.sub(\"[,]\",\"\",re_word)\n",
    "                re_word=re.sub(\"[.]\",\"\",re_word)\n",
    "                re_word=re.sub(\"[;]\",\"\",re_word)\n",
    "                re_word=re.sub(\"['']\",\"\",re_word)\n",
    "                re_word=re.sub(r'[0-9]+',\"\", re_word)\n",
    "                new.append(re_word)\n",
    "        res.append(new)\n",
    "reg_exp(clean_text2)\n"
   ]
  },
  {
   "cell_type": "code",
   "execution_count": 18,
   "id": "a81c8c13",
   "metadata": {},
   "outputs": [
    {
     "data": {
      "text/plain": [
       "'It does it on its own. Most of the time it fixes my spelling. But sometimes it gets a completely diff word. Go figure'"
      ]
     },
     "execution_count": 18,
     "metadata": {},
     "output_type": "execute_result"
    }
   ],
   "source": [
    "csv_dataset[\"v2\"][786]"
   ]
  },
  {
   "cell_type": "code",
   "execution_count": 19,
   "id": "abc4d45f",
   "metadata": {},
   "outputs": [
    {
     "data": {
      "text/plain": [
       "['go',\n",
       " 'nil',\n",
       " 'rong',\n",
       " 'poin',\n",
       " 'razy',\n",
       " 'availal',\n",
       " 'only',\n",
       " 'in',\n",
       " 'gi',\n",
       " 'n',\n",
       " 'gra',\n",
       " 'world',\n",
       " 'la',\n",
       " '',\n",
       " 'ff',\n",
       " 'in',\n",
       " 'hr',\n",
       " 'go',\n",
       " 'amor',\n",
       " 'wa']"
      ]
     },
     "execution_count": 19,
     "metadata": {},
     "output_type": "execute_result"
    }
   ],
   "source": [
    "res[0]"
   ]
  },
  {
   "cell_type": "code",
   "execution_count": 20,
   "id": "9f9442df",
   "metadata": {},
   "outputs": [],
   "source": [
    "mydata=[]\n",
    "for j in range(len(clean_text2)):\n",
    "    mystr=\" \"\n",
    "    for i in clean_text2[j]:\n",
    "        mystr+=\" \"+i\n",
    "    mydata.append(mystr)"
   ]
  },
  {
   "cell_type": "code",
   "execution_count": 21,
   "id": "571d25f9",
   "metadata": {},
   "outputs": [
    {
     "data": {
      "text/plain": [
       "5572"
      ]
     },
     "execution_count": 21,
     "metadata": {},
     "output_type": "execute_result"
    }
   ],
   "source": [
    "len(mydata)"
   ]
  },
  {
   "cell_type": "code",
   "execution_count": 22,
   "id": "b8db7dec",
   "metadata": {},
   "outputs": [
    {
     "data": {
      "text/plain": [
       "'Go until jurong point, crazy.. Available only in bugis n great world la e buffet... Cine there got amore wat...'"
      ]
     },
     "execution_count": 22,
     "metadata": {},
     "output_type": "execute_result"
    }
   ],
   "source": [
    "csv_dataset[\"v2\"][0]"
   ]
  },
  {
   "cell_type": "code",
   "execution_count": 23,
   "id": "1ca46a4d",
   "metadata": {},
   "outputs": [
    {
     "data": {
      "text/plain": [
       "'  go until jurong point, crazy.. available only in bugis n great world la e buffet... cine there got amore wat...'"
      ]
     },
     "execution_count": 23,
     "metadata": {},
     "output_type": "execute_result"
    }
   ],
   "source": [
    "mydata[0]"
   ]
  },
  {
   "cell_type": "code",
   "execution_count": 24,
   "id": "e6204f14",
   "metadata": {},
   "outputs": [],
   "source": [
    "for k in range(len(mydata)):\n",
    "    csv_dataset[\"v2\"][k]=mydata[k]"
   ]
  },
  {
   "cell_type": "code",
   "execution_count": 25,
   "id": "fa996bb1",
   "metadata": {},
   "outputs": [
    {
     "data": {
      "text/plain": [
       "5572"
      ]
     },
     "execution_count": 25,
     "metadata": {},
     "output_type": "execute_result"
    }
   ],
   "source": [
    "len(res)"
   ]
  },
  {
   "cell_type": "code",
   "execution_count": 26,
   "id": "6c082a01",
   "metadata": {},
   "outputs": [],
   "source": [
    "csv_dataset.to_csv(\"cleaned.csv\")"
   ]
  },
  {
   "cell_type": "code",
   "execution_count": 27,
   "id": "ea0e7140",
   "metadata": {},
   "outputs": [],
   "source": [
    "df=pd.read_csv(\"cleaned.csv\")"
   ]
  },
  {
   "cell_type": "code",
   "execution_count": 28,
   "id": "a54c6d64",
   "metadata": {},
   "outputs": [
    {
     "data": {
      "text/plain": [
       "0     ham\n",
       "1     ham\n",
       "2    spam\n",
       "3     ham\n",
       "4     ham\n",
       "Name: v1, dtype: object"
      ]
     },
     "execution_count": 28,
     "metadata": {},
     "output_type": "execute_result"
    }
   ],
   "source": [
    "df[\"v1\"].head()"
   ]
  },
  {
   "cell_type": "code",
   "execution_count": 29,
   "id": "06baf63c",
   "metadata": {},
   "outputs": [],
   "source": [
    "Vect=CountVectorizer(max_features=3000)\n",
    "X=Vect.fit_transform(df[\"v2\"]).toarray()"
   ]
  },
  {
   "cell_type": "code",
   "execution_count": 30,
   "id": "a282d20d",
   "metadata": {},
   "outputs": [
    {
     "data": {
      "text/plain": [
       "numpy.ndarray"
      ]
     },
     "execution_count": 30,
     "metadata": {},
     "output_type": "execute_result"
    }
   ],
   "source": [
    "type(X)"
   ]
  },
  {
   "cell_type": "code",
   "execution_count": 31,
   "id": "3fdda9ff",
   "metadata": {},
   "outputs": [],
   "source": [
    "label=[]"
   ]
  },
  {
   "cell_type": "code",
   "execution_count": 32,
   "id": "c91998a2",
   "metadata": {},
   "outputs": [
    {
     "data": {
      "text/plain": [
       "(5572, 3000)"
      ]
     },
     "execution_count": 32,
     "metadata": {},
     "output_type": "execute_result"
    }
   ],
   "source": [
    "X.shape"
   ]
  },
  {
   "cell_type": "code",
   "execution_count": 33,
   "id": "1ed3847c",
   "metadata": {},
   "outputs": [],
   "source": [
    "for i,row in csv_dataset.iterrows():\n",
    "    if row[\"v1\"]==\"ham\":\n",
    "        label.append(0)\n",
    "    else:\n",
    "        label.append(1)"
   ]
  },
  {
   "cell_type": "code",
   "execution_count": 34,
   "id": "9a054c30",
   "metadata": {},
   "outputs": [
    {
     "data": {
      "text/plain": [
       "5572"
      ]
     },
     "execution_count": 34,
     "metadata": {},
     "output_type": "execute_result"
    }
   ],
   "source": [
    "len(label)"
   ]
  },
  {
   "cell_type": "code",
   "execution_count": 35,
   "id": "1b8c4122",
   "metadata": {},
   "outputs": [],
   "source": [
    "y=np.array(label)"
   ]
  },
  {
   "cell_type": "code",
   "execution_count": 36,
   "id": "6c4a1569",
   "metadata": {},
   "outputs": [],
   "source": [
    "x_train,x_test,y_train,y_test=train_test_split(X,label,test_size=0.2)"
   ]
  },
  {
   "cell_type": "code",
   "execution_count": 37,
   "id": "7f7929f3",
   "metadata": {},
   "outputs": [
    {
     "data": {
      "text/plain": [
       "(5572, 5572)"
      ]
     },
     "execution_count": 37,
     "metadata": {},
     "output_type": "execute_result"
    }
   ],
   "source": [
    "len(X),len(y)"
   ]
  },
  {
   "cell_type": "code",
   "execution_count": 38,
   "id": "e7647fe9",
   "metadata": {},
   "outputs": [],
   "source": [
    "clf=MultinomialNB()\n",
    "clf.fit(x_train,y_train)\n",
    "y_pred=clf.predict(x_test)\n",
    "ac=accuracy_score(y_pred,y_test)"
   ]
  },
  {
   "cell_type": "code",
   "execution_count": 39,
   "id": "08bd19c3",
   "metadata": {},
   "outputs": [
    {
     "name": "stdout",
     "output_type": "stream",
     "text": [
      "0.9829596412556054\n"
     ]
    }
   ],
   "source": [
    "print(ac)"
   ]
  },
  {
   "cell_type": "code",
   "execution_count": 49,
   "id": "c85a7ac0",
   "metadata": {},
   "outputs": [],
   "source": [
    "test=[\"Free entry in 2 a wkly comp to win FA Cup final tkts 21st May 2005. Text FA to 87121 to receive entry question(std txt rate)T&C's apply 08452810075over18's\"]\n",
    "test_dt=Vect.transform(test)\n",
    "pred=clf.predict(test_dt)[0]"
   ]
  },
  {
   "cell_type": "code",
   "execution_count": 50,
   "id": "9b322de4",
   "metadata": {},
   "outputs": [
    {
     "name": "stdout",
     "output_type": "stream",
     "text": [
      "1\n"
     ]
    }
   ],
   "source": [
    "print(pred)"
   ]
  },
  {
   "cell_type": "code",
   "execution_count": 44,
   "id": "891816d2",
   "metadata": {},
   "outputs": [],
   "source": [
    "import pickle\n",
    "pickle.dump(Vect,open(\"CountVect.pkl\",\"wb\"))\n",
    "pickle.dump(clf,open(\"model.pkl\",\"wb\"))\n"
   ]
  },
  {
   "cell_type": "code",
   "execution_count": null,
   "id": "33d7cc9d",
   "metadata": {},
   "outputs": [],
   "source": []
  }
 ],
 "metadata": {
  "kernelspec": {
   "display_name": "Python 3 (ipykernel)",
   "language": "python",
   "name": "python3"
  },
  "language_info": {
   "codemirror_mode": {
    "name": "ipython",
    "version": 3
   },
   "file_extension": ".py",
   "mimetype": "text/x-python",
   "name": "python",
   "nbconvert_exporter": "python",
   "pygments_lexer": "ipython3",
   "version": "3.8.10"
  }
 },
 "nbformat": 4,
 "nbformat_minor": 5
}
